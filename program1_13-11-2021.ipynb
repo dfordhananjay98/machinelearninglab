{
 "cells": [
  {
   "cell_type": "code",
   "execution_count": 1,
   "id": "1cfd57dd",
   "metadata": {},
   "outputs": [],
   "source": [
    "n1=[19,12,35,8,87,2]\n"
   ]
  },
  {
   "cell_type": "code",
   "execution_count": 7,
   "id": "295c6dad",
   "metadata": {},
   "outputs": [],
   "source": [
    "def meannum(lis):\n",
    "    k=0\n",
    "    for i in range(len(lis)):\n",
    "        k += lis[i]\n",
    "    avg= k/len(lis)\n",
    "    return avg\n",
    "    "
   ]
  },
  {
   "cell_type": "code",
   "execution_count": 8,
   "id": "bd51e2db",
   "metadata": {},
   "outputs": [
    {
     "data": {
      "text/plain": [
       "27.166666666666668"
      ]
     },
     "execution_count": 8,
     "metadata": {},
     "output_type": "execute_result"
    }
   ],
   "source": [
    "meannum(n1)"
   ]
  },
  {
   "cell_type": "markdown",
   "id": "47bb09cc",
   "metadata": {},
   "source": [
    "def median_num(n1):\n"
   ]
  },
  {
   "cell_type": "code",
   "execution_count": 25,
   "id": "bffbd7ad",
   "metadata": {},
   "outputs": [],
   "source": [
    "def median_num(n1): \n",
    "    n1.sort()\n",
    "    i = 0\n",
    "    if(len(n1)%2==0):\n",
    "        mid = (len(n1)-1)//2\n",
    "        mid1 = (len(n1))//2\n",
    "        median = (n1[mid]+n1[mid1])//2\n",
    "        return median\n",
    "    else:\n",
    "        i=(len(n1)-1)//2\n",
    "        return n1[i]"
   ]
  },
  {
   "cell_type": "code",
   "execution_count": 26,
   "id": "30cd33f0",
   "metadata": {},
   "outputs": [
    {
     "data": {
      "text/plain": [
       "15"
      ]
     },
     "execution_count": 26,
     "metadata": {},
     "output_type": "execute_result"
    }
   ],
   "source": [
    "median_num(n1)\n"
   ]
  },
  {
   "cell_type": "markdown",
   "id": "20a33e7b",
   "metadata": {},
   "source": []
  },
  {
   "cell_type": "code",
   "execution_count": 33,
   "id": "f3b551dc",
   "metadata": {},
   "outputs": [
    {
     "name": "stdout",
     "output_type": "stream",
     "text": [
      "mode of the given list is 2\n"
     ]
    }
   ],
   "source": [
    "dict={}\n",
    "for i in n1:\n",
    "    if(i in dict):\n",
    "         dict[i]+=1\n",
    "    else:\n",
    "         dict[i]=1\n",
    "ele=0\n",
    "max1=0\n",
    "for key, value in dict.items():\n",
    "        if(value>max1):\n",
    "            max1=value\n",
    "            ele=key\n",
    "print(f\"mode of the given list is {ele}\")        \n",
    "    "
   ]
  },
  {
   "cell_type": "code",
   "execution_count": 40,
   "id": "b52dfde2",
   "metadata": {},
   "outputs": [
    {
     "data": {
      "text/plain": [
       "28.690397154603644"
      ]
     },
     "execution_count": 40,
     "metadata": {},
     "output_type": "execute_result"
    }
   ],
   "source": [
    "import math\n",
    "def std_dev(n1,meannum):\n",
    "    var=0\n",
    "    for i in range(len(n1)):\n",
    "        var=var+(n1[i]-meannum)**2\n",
    "    var=var/len(n1)\n",
    "    return math.sqrt(var)\n",
    "meannum=meannum(n1)\n",
    "std_dev(n1,meannum)\n"
   ]
  },
  {
   "cell_type": "code",
   "execution_count": 41,
   "id": "484567b6",
   "metadata": {},
   "outputs": [],
   "source": [
    "def std_norm(n1):\n",
    "    max_num = max(n1)\n",
    "    min_num = min(n1)\n",
    "    normal = []\n",
    "    for a in n1:\n",
    "        norm = (a-min_num)/(max_num-(min_num))\n",
    "        normal.append(norm)\n",
    "    return normal\n"
   ]
  },
  {
   "cell_type": "code",
   "execution_count": 42,
   "id": "a2414200",
   "metadata": {},
   "outputs": [
    {
     "data": {
      "text/plain": [
       "[0.0, 0.07058823529411765, 0.11764705882352941, 0.2, 0.38823529411764707, 1.0]"
      ]
     },
     "execution_count": 42,
     "metadata": {},
     "output_type": "execute_result"
    }
   ],
   "source": [
    "std_norm(n1)"
   ]
  },
  {
   "cell_type": "code",
   "execution_count": 44,
   "id": "85d22150",
   "metadata": {},
   "outputs": [
    {
     "data": {
      "text/plain": [
       "[-0.87718083967438,\n",
       " -0.668051632864594,\n",
       " -0.52863216165807,\n",
       " -0.2846480870466531,\n",
       " 0.27302979777944275,\n",
       " 2.0854829234642542]"
      ]
     },
     "execution_count": 44,
     "metadata": {},
     "output_type": "execute_result"
    }
   ],
   "source": [
    "import numpy as np\n",
    "def std(n1):\n",
    "    mean = np.mean(n1)\n",
    "    std = np.std(n1)\n",
    "    normal = [] \n",
    "    for x in n1:\n",
    "        normalx = (x- mean)/std\n",
    "        normal.append(normalx)\n",
    "    return normal\n",
    "std(n1)"
   ]
  },
  {
   "cell_type": "code",
   "execution_count": null,
   "id": "da78cd60",
   "metadata": {},
   "outputs": [],
   "source": []
  }
 ],
 "metadata": {
  "kernelspec": {
   "display_name": "Python 3",
   "language": "python",
   "name": "python3"
  },
  "language_info": {
   "codemirror_mode": {
    "name": "ipython",
    "version": 3
   },
   "file_extension": ".py",
   "mimetype": "text/x-python",
   "name": "python",
   "nbconvert_exporter": "python",
   "pygments_lexer": "ipython3",
   "version": "3.8.8"
  }
 },
 "nbformat": 4,
 "nbformat_minor": 5
}
